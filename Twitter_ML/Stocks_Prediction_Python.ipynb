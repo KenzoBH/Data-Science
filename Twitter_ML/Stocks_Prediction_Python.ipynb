{
 "cells": [
  {
   "cell_type": "code",
   "execution_count": 1,
   "metadata": {},
   "outputs": [],
   "source": [
    "import pandas as pd\n",
    "import numpy as np\n",
    "import matplotlib.pyplot as plt\n",
    "%matplotlib inline\n",
    "import seaborn as sns\n",
    "\n",
    "import warnings\n",
    "warnings.filterwarnings('ignore')"
   ]
  },
  {
   "cell_type": "code",
   "execution_count": 153,
   "metadata": {},
   "outputs": [
    {
     "data": {
      "text/html": [
       "<div>\n",
       "<style scoped>\n",
       "    .dataframe tbody tr th:only-of-type {\n",
       "        vertical-align: middle;\n",
       "    }\n",
       "\n",
       "    .dataframe tbody tr th {\n",
       "        vertical-align: top;\n",
       "    }\n",
       "\n",
       "    .dataframe thead th {\n",
       "        text-align: right;\n",
       "    }\n",
       "</style>\n",
       "<table border=\"1\" class=\"dataframe\">\n",
       "  <thead>\n",
       "    <tr style=\"text-align: right;\">\n",
       "      <th></th>\n",
       "      <th>Data</th>\n",
       "      <th>Último</th>\n",
       "      <th>Abertura</th>\n",
       "      <th>Máxima</th>\n",
       "      <th>Mínima</th>\n",
       "      <th>Vol.</th>\n",
       "    </tr>\n",
       "  </thead>\n",
       "  <tbody>\n",
       "    <tr>\n",
       "      <th>0</th>\n",
       "      <td>2005-01-03</td>\n",
       "      <td>0.56</td>\n",
       "      <td>0.56</td>\n",
       "      <td>0.56</td>\n",
       "      <td>0.56</td>\n",
       "      <td>6,02M</td>\n",
       "    </tr>\n",
       "    <tr>\n",
       "      <th>1</th>\n",
       "      <td>2005-01-04</td>\n",
       "      <td>0.56</td>\n",
       "      <td>0.56</td>\n",
       "      <td>0.57</td>\n",
       "      <td>0.56</td>\n",
       "      <td>1,89M</td>\n",
       "    </tr>\n",
       "    <tr>\n",
       "      <th>2</th>\n",
       "      <td>2005-01-05</td>\n",
       "      <td>0.56</td>\n",
       "      <td>0.57</td>\n",
       "      <td>0.57</td>\n",
       "      <td>0.56</td>\n",
       "      <td>2,20M</td>\n",
       "    </tr>\n",
       "    <tr>\n",
       "      <th>3</th>\n",
       "      <td>2005-01-06</td>\n",
       "      <td>0.56</td>\n",
       "      <td>0.56</td>\n",
       "      <td>0.57</td>\n",
       "      <td>0.56</td>\n",
       "      <td>903,95K</td>\n",
       "    </tr>\n",
       "    <tr>\n",
       "      <th>4</th>\n",
       "      <td>2005-01-07</td>\n",
       "      <td>0.56</td>\n",
       "      <td>0.55</td>\n",
       "      <td>0.57</td>\n",
       "      <td>0.55</td>\n",
       "      <td>2,34M</td>\n",
       "    </tr>\n",
       "  </tbody>\n",
       "</table>\n",
       "</div>"
      ],
      "text/plain": [
       "        Data  Último  Abertura  Máxima  Mínima     Vol.\n",
       "0 2005-01-03    0.56      0.56    0.56    0.56    6,02M\n",
       "1 2005-01-04    0.56      0.56    0.57    0.56    1,89M\n",
       "2 2005-01-05    0.56      0.57    0.57    0.56    2,20M\n",
       "3 2005-01-06    0.56      0.56    0.57    0.56  903,95K\n",
       "4 2005-01-07    0.56      0.55    0.57    0.55    2,34M"
      ]
     },
     "execution_count": 153,
     "metadata": {},
     "output_type": "execute_result"
    }
   ],
   "source": [
    "df = pd.read_csv('POMO4 Dados Históricos.csv', parse_dates = ['Data'], dayfirst = True, decimal = ',')\n",
    "df = df.drop(['Var%'], axis = 1)\n",
    "df = df.sort_index(ascending = False).reset_index().drop(['index'], axis = 1)\n",
    "df.head()"
   ]
  },
  {
   "cell_type": "code",
   "execution_count": 154,
   "metadata": {},
   "outputs": [
    {
     "name": "stdout",
     "output_type": "stream",
     "text": [
      "<class 'pandas.core.frame.DataFrame'>\n",
      "RangeIndex: 3991 entries, 0 to 3990\n",
      "Data columns (total 6 columns):\n",
      " #   Column    Non-Null Count  Dtype         \n",
      "---  ------    --------------  -----         \n",
      " 0   Data      3991 non-null   datetime64[ns]\n",
      " 1   Último    3991 non-null   float64       \n",
      " 2   Abertura  3991 non-null   float64       \n",
      " 3   Máxima    3991 non-null   float64       \n",
      " 4   Mínima    3991 non-null   float64       \n",
      " 5   Vol.      3991 non-null   float64       \n",
      "dtypes: datetime64[ns](1), float64(5)\n",
      "memory usage: 187.2 KB\n"
     ]
    }
   ],
   "source": [
    "df['Vol.'] = df['Vol.'].str.replace(',', '.').str.replace('[MK]', '').astype('float')\n",
    "df.info()"
   ]
  },
  {
   "cell_type": "code",
   "execution_count": 155,
   "metadata": {},
   "outputs": [],
   "source": [
    "df = df.rename(columns = {\n",
    "    'Data': 'Date',\n",
    "    'Último': 'Close',\n",
    "    'Abertura': 'Open',\n",
    "    'Máxima': 'High',\n",
    "    'Mínima': 'Low',\n",
    "    'Vol.': 'Volume'\n",
    "})\n",
    "\n",
    "df['Next Day Close'] = df['Close'].shift(-1)\n",
    "df['Next 5th Day Close'] = df['Close'].shift(-5)\n",
    "\n",
    "df = df.dropna()\n",
    "df = df.reset_index().drop(['index'], axis = 1)"
   ]
  },
  {
   "cell_type": "code",
   "execution_count": 156,
   "metadata": {},
   "outputs": [
    {
     "data": {
      "text/html": [
       "<div>\n",
       "<style scoped>\n",
       "    .dataframe tbody tr th:only-of-type {\n",
       "        vertical-align: middle;\n",
       "    }\n",
       "\n",
       "    .dataframe tbody tr th {\n",
       "        vertical-align: top;\n",
       "    }\n",
       "\n",
       "    .dataframe thead th {\n",
       "        text-align: right;\n",
       "    }\n",
       "</style>\n",
       "<table border=\"1\" class=\"dataframe\">\n",
       "  <thead>\n",
       "    <tr style=\"text-align: right;\">\n",
       "      <th></th>\n",
       "      <th>Date</th>\n",
       "      <th>Close</th>\n",
       "      <th>Open</th>\n",
       "      <th>High</th>\n",
       "      <th>Low</th>\n",
       "      <th>Volume</th>\n",
       "      <th>Next Day Close</th>\n",
       "      <th>Next 5th Day Close</th>\n",
       "    </tr>\n",
       "  </thead>\n",
       "  <tbody>\n",
       "    <tr>\n",
       "      <th>3981</th>\n",
       "      <td>2021-02-09</td>\n",
       "      <td>2.80</td>\n",
       "      <td>2.83</td>\n",
       "      <td>2.85</td>\n",
       "      <td>2.78</td>\n",
       "      <td>10.23</td>\n",
       "      <td>2.76</td>\n",
       "      <td>2.63</td>\n",
       "    </tr>\n",
       "    <tr>\n",
       "      <th>3982</th>\n",
       "      <td>2021-02-10</td>\n",
       "      <td>2.76</td>\n",
       "      <td>2.81</td>\n",
       "      <td>2.82</td>\n",
       "      <td>2.73</td>\n",
       "      <td>7.94</td>\n",
       "      <td>2.74</td>\n",
       "      <td>2.62</td>\n",
       "    </tr>\n",
       "    <tr>\n",
       "      <th>3983</th>\n",
       "      <td>2021-02-11</td>\n",
       "      <td>2.74</td>\n",
       "      <td>2.78</td>\n",
       "      <td>2.81</td>\n",
       "      <td>2.72</td>\n",
       "      <td>6.81</td>\n",
       "      <td>2.74</td>\n",
       "      <td>2.52</td>\n",
       "    </tr>\n",
       "    <tr>\n",
       "      <th>3984</th>\n",
       "      <td>2021-02-12</td>\n",
       "      <td>2.74</td>\n",
       "      <td>2.75</td>\n",
       "      <td>2.76</td>\n",
       "      <td>2.71</td>\n",
       "      <td>5.18</td>\n",
       "      <td>2.66</td>\n",
       "      <td>2.62</td>\n",
       "    </tr>\n",
       "    <tr>\n",
       "      <th>3985</th>\n",
       "      <td>2021-02-17</td>\n",
       "      <td>2.66</td>\n",
       "      <td>2.75</td>\n",
       "      <td>2.76</td>\n",
       "      <td>2.64</td>\n",
       "      <td>11.96</td>\n",
       "      <td>2.63</td>\n",
       "      <td>2.67</td>\n",
       "    </tr>\n",
       "  </tbody>\n",
       "</table>\n",
       "</div>"
      ],
      "text/plain": [
       "           Date  Close  Open  High   Low  Volume  Next Day Close  \\\n",
       "3981 2021-02-09   2.80  2.83  2.85  2.78   10.23            2.76   \n",
       "3982 2021-02-10   2.76  2.81  2.82  2.73    7.94            2.74   \n",
       "3983 2021-02-11   2.74  2.78  2.81  2.72    6.81            2.74   \n",
       "3984 2021-02-12   2.74  2.75  2.76  2.71    5.18            2.66   \n",
       "3985 2021-02-17   2.66  2.75  2.76  2.64   11.96            2.63   \n",
       "\n",
       "      Next 5th Day Close  \n",
       "3981                2.63  \n",
       "3982                2.62  \n",
       "3983                2.52  \n",
       "3984                2.62  \n",
       "3985                2.67  "
      ]
     },
     "execution_count": 156,
     "metadata": {},
     "output_type": "execute_result"
    }
   ],
   "source": [
    "df.tail()"
   ]
  },
  {
   "cell_type": "markdown",
   "metadata": {},
   "source": [
    "## Data Preparation"
   ]
  },
  {
   "cell_type": "code",
   "execution_count": 157,
   "metadata": {
    "tags": []
   },
   "outputs": [],
   "source": [
    "X_train = df[:3000].drop(['Date', 'Next Day Close', 'Next 5th Day Close'], axis = 1)\n",
    "X_test = df[3000:].drop(['Date', 'Next Day Close', 'Next 5th Day Close'], axis = 1)\n",
    "\n",
    "y1_train = df[:3000]['Next Day Close']\n",
    "y1_test = df[3000:]['Next Day Close']\n",
    "\n",
    "y5_train = df[:3000]['Next 5th Day Close']\n",
    "y5_test = df[3000:]['Next 5th Day Close']"
   ]
  },
  {
   "cell_type": "code",
   "execution_count": 158,
   "metadata": {},
   "outputs": [],
   "source": [
    "from sklearn.preprocessing import StandardScaler\n",
    "\n",
    "scaler = StandardScaler()\n",
    "X_train = scaler.fit_transform(X_train)\n",
    "X_test = scaler.transform(X_test)"
   ]
  },
  {
   "cell_type": "markdown",
   "metadata": {},
   "source": [
    "## Baseline model and model selection"
   ]
  },
  {
   "cell_type": "code",
   "execution_count": 159,
   "metadata": {},
   "outputs": [
    {
     "name": "stdout",
     "output_type": "stream",
     "text": [
      "Baseline RMSE of the next day prediction: 1.3352544392545893 R$\n",
      "Baseline RMSE of the next 5th day prediction: 1.332066348232169 R$\n"
     ]
    }
   ],
   "source": [
    "from sklearn.metrics import mean_squared_error\n",
    "\n",
    "baseline_y1 = np.ones(len(y1_test)) * y1_train.mean()\n",
    "rmse_baseline_y1 = np.sqrt(mean_squared_error(y1_test, baseline_y1))\n",
    "\n",
    "baseline_y5 = np.ones(len(y5_test)) * y5_train.mean()\n",
    "rmse_baseline_y5 = np.sqrt(mean_squared_error(y5_test, baseline_y5))\n",
    "\n",
    "print('Baseline RMSE of the next day prediction: {} R$'.format(rmse_baseline_y1))\n",
    "print('Baseline RMSE of the next 5th day prediction: {} R$'.format(rmse_baseline_y5))"
   ]
  },
  {
   "cell_type": "code",
   "execution_count": 160,
   "metadata": {},
   "outputs": [
    {
     "name": "stdout",
     "output_type": "stream",
     "text": [
      "\n",
      "SGDRegressor() RMSE for the next day prediction: 0.10597486817481166 R$\n",
      "SGDRegressor() RMSE for the next 5th day prediction: 0.2276721510799441 R$\n",
      "\n",
      "LinearRegression() RMSE for the next day prediction: 0.09775777726831528 R$\n",
      "LinearRegression() RMSE for the next 5th day prediction: 0.22519126724376576 R$\n",
      "\n",
      "Ridge() RMSE for the next day prediction: 0.09866993092840891 R$\n",
      "Ridge() RMSE for the next 5th day prediction: 0.2252827013864185 R$\n",
      "\n",
      "LinearSVR(max_iter=100000) RMSE for the next day prediction: 0.0979419486937616 R$\n",
      "LinearSVR(max_iter=100000) RMSE for the next 5th day prediction: 0.22476422065926807 R$\n",
      "\n",
      "RandomForestRegressor() RMSE for the next day prediction: 0.10524173564177149 R$\n",
      "RandomForestRegressor() RMSE for the next 5th day prediction: 0.23989585956855078 R$\n"
     ]
    }
   ],
   "source": [
    "from sklearn.linear_model import SGDRegressor, LinearRegression, Ridge\n",
    "from sklearn.svm import LinearSVR\n",
    "from sklearn.ensemble import RandomForestRegressor\n",
    "\n",
    "for model in [SGDRegressor(), LinearRegression(), Ridge(), LinearSVR(max_iter = 100000), RandomForestRegressor()]:\n",
    "\n",
    "    mdl1 = model\n",
    "    mdl1.fit(X_train, y1_train)\n",
    "    pred_mdl1 = mdl1.predict(X_test)\n",
    "    rmse_mdl1 = np.sqrt(mean_squared_error(y1_test, pred_mdl1))\n",
    "\n",
    "    mdl5 = model\n",
    "    mdl5.fit(X_train, y5_train)\n",
    "    pred_mdl5 = mdl5.predict(X_test)\n",
    "    rmse_mdl5 = np.sqrt(mean_squared_error(y5_test, pred_mdl5))\n",
    "\n",
    "    print('\\n{} RMSE for the next day prediction: {} R$'.format(model, rmse_mdl1))\n",
    "    print('{} RMSE for the next 5th day prediction: {} R$'.format(model, rmse_mdl5))"
   ]
  },
  {
   "cell_type": "markdown",
   "metadata": {},
   "source": [
    "# Next day predictors"
   ]
  },
  {
   "cell_type": "code",
   "execution_count": 161,
   "metadata": {},
   "outputs": [
    {
     "name": "stdout",
     "output_type": "stream",
     "text": [
      "Best alpha: 0.1\n",
      "Best Ridge Regression RMSE for the next day prediction: R$ 0.09771651510957217\n"
     ]
    }
   ],
   "source": [
    "rmses_r1 = []\n",
    "\n",
    "for alpha in np.arange(0.1, 2, 0.001):\n",
    "    \n",
    "    r1 = Ridge(alpha = alpha)\n",
    "    r1.fit(X_train, y1_train)\n",
    "    pred_r1 = r1.predict(X_test)\n",
    "    rmse_r1 = np.sqrt(mean_squared_error(y1_test, pred_r1))\n",
    "\n",
    "    rmses_r1.append([rmse_r1, alpha])\n",
    "    \n",
    "print('Best alpha: {}'.format(min(rmses_r1)[1]))\n",
    "print('Best Ridge Regression RMSE for the next day prediction: R$ {}'.format(min(rmses_r1)[0]))\n",
    "\n",
    "best_r1 = Ridge(alpha = min(rmses_r1)[1])\n",
    "best_r1.fit(X_train, y1_train)\n",
    "pred_best_r1 = best_r1.predict(X_test)"
   ]
  },
  {
   "cell_type": "code",
   "execution_count": 11,
   "metadata": {},
   "outputs": [
    {
     "name": "stdout",
     "output_type": "stream",
     "text": [
      "Best C: 0.6799999999999999\n",
      "Best Linear SVR RMSE for the next day prediction: R$ 0.0977672888616121\n"
     ]
    }
   ],
   "source": [
    "rmses_svr1 = []\n",
    "\n",
    "for C in np.arange(0.01, 2, 0.005):\n",
    "\n",
    "    svr1 = LinearSVR(C = C)\n",
    "    svr1.fit(X_train, y1_train)\n",
    "    pred_svr1 = svr1.predict(X_test)\n",
    "    rmse_svr1 = np.sqrt(mean_squared_error(y1_test, pred_svr1))\n",
    "\n",
    "    rmses_svr1.append([rmse_svr1, C])\n",
    "    \n",
    "print('Best C: {}'.format(min(rmses_svr1)[1]))\n",
    "print('Best Linear SVR RMSE for the next day prediction: R$ {}'.format(min(rmses_svr1)[0]))\n",
    "\n",
    "best_svr1 = LinearSVR(C = min(rmses_svr1)[1])\n",
    "best_svr1.fit(X_train, y1_train)\n",
    "pred_best_svr1 = best_svr1.predict(X_test)"
   ]
  },
  {
   "cell_type": "code",
   "execution_count": 162,
   "metadata": {},
   "outputs": [
    {
     "name": "stdout",
     "output_type": "stream",
     "text": [
      "Linear Regression RMSE for the nextday prediction: R$ 0.09775777726831528\n"
     ]
    }
   ],
   "source": [
    "lr1 = LinearRegression()\n",
    "lr1.fit(X_train, y1_train)\n",
    "pred_lr1 = lr1.predict(X_test)\n",
    "\n",
    "print('Linear Regression RMSE for the nextday prediction: R$ {}'.format(np.sqrt(mean_squared_error(y1_test, pred_lr1))))"
   ]
  },
  {
   "cell_type": "code",
   "execution_count": 163,
   "metadata": {},
   "outputs": [
    {
     "data": {
      "text/html": [
       "<div>\n",
       "<style scoped>\n",
       "    .dataframe tbody tr th:only-of-type {\n",
       "        vertical-align: middle;\n",
       "    }\n",
       "\n",
       "    .dataframe tbody tr th {\n",
       "        vertical-align: top;\n",
       "    }\n",
       "\n",
       "    .dataframe thead th {\n",
       "        text-align: right;\n",
       "    }\n",
       "</style>\n",
       "<table border=\"1\" class=\"dataframe\">\n",
       "  <thead>\n",
       "    <tr style=\"text-align: right;\">\n",
       "      <th></th>\n",
       "      <th>Date</th>\n",
       "      <th>Next Day Close</th>\n",
       "      <th>Ridge Prediction</th>\n",
       "      <th>SVR Prediction</th>\n",
       "      <th>Linear Regression Prediction</th>\n",
       "      <th>Ridge Error</th>\n",
       "      <th>SVR Error</th>\n",
       "      <th>Linear Regression Error</th>\n",
       "      <th>Best Model</th>\n",
       "    </tr>\n",
       "  </thead>\n",
       "  <tbody>\n",
       "    <tr>\n",
       "      <th>3000</th>\n",
       "      <td>2017-02-16</td>\n",
       "      <td>2.92</td>\n",
       "      <td>2.936920</td>\n",
       "      <td>2.935442</td>\n",
       "      <td>2.938066</td>\n",
       "      <td>0.016920</td>\n",
       "      <td>0.015442</td>\n",
       "      <td>0.018066</td>\n",
       "      <td>SVR</td>\n",
       "    </tr>\n",
       "    <tr>\n",
       "      <th>3001</th>\n",
       "      <td>2017-02-17</td>\n",
       "      <td>2.89</td>\n",
       "      <td>2.919972</td>\n",
       "      <td>2.919783</td>\n",
       "      <td>2.920081</td>\n",
       "      <td>0.029972</td>\n",
       "      <td>0.029783</td>\n",
       "      <td>0.030081</td>\n",
       "      <td>SVR</td>\n",
       "    </tr>\n",
       "    <tr>\n",
       "      <th>3002</th>\n",
       "      <td>2017-02-20</td>\n",
       "      <td>2.88</td>\n",
       "      <td>2.897716</td>\n",
       "      <td>2.896571</td>\n",
       "      <td>2.895499</td>\n",
       "      <td>0.017716</td>\n",
       "      <td>0.016571</td>\n",
       "      <td>0.015499</td>\n",
       "      <td>Linear Regression</td>\n",
       "    </tr>\n",
       "    <tr>\n",
       "      <th>3003</th>\n",
       "      <td>2017-02-21</td>\n",
       "      <td>2.80</td>\n",
       "      <td>2.884671</td>\n",
       "      <td>2.883193</td>\n",
       "      <td>2.883398</td>\n",
       "      <td>0.084671</td>\n",
       "      <td>0.083193</td>\n",
       "      <td>0.083398</td>\n",
       "      <td>SVR</td>\n",
       "    </tr>\n",
       "    <tr>\n",
       "      <th>3004</th>\n",
       "      <td>2017-02-22</td>\n",
       "      <td>2.72</td>\n",
       "      <td>2.796889</td>\n",
       "      <td>2.796980</td>\n",
       "      <td>2.798114</td>\n",
       "      <td>0.076889</td>\n",
       "      <td>0.076980</td>\n",
       "      <td>0.078114</td>\n",
       "      <td>Ridge</td>\n",
       "    </tr>\n",
       "    <tr>\n",
       "      <th>...</th>\n",
       "      <td>...</td>\n",
       "      <td>...</td>\n",
       "      <td>...</td>\n",
       "      <td>...</td>\n",
       "      <td>...</td>\n",
       "      <td>...</td>\n",
       "      <td>...</td>\n",
       "      <td>...</td>\n",
       "      <td>...</td>\n",
       "    </tr>\n",
       "    <tr>\n",
       "      <th>3981</th>\n",
       "      <td>2021-02-09</td>\n",
       "      <td>2.76</td>\n",
       "      <td>2.802496</td>\n",
       "      <td>2.801799</td>\n",
       "      <td>2.801907</td>\n",
       "      <td>0.042496</td>\n",
       "      <td>0.041799</td>\n",
       "      <td>0.041907</td>\n",
       "      <td>SVR</td>\n",
       "    </tr>\n",
       "    <tr>\n",
       "      <th>3982</th>\n",
       "      <td>2021-02-10</td>\n",
       "      <td>2.74</td>\n",
       "      <td>2.761537</td>\n",
       "      <td>2.761313</td>\n",
       "      <td>2.761288</td>\n",
       "      <td>0.021537</td>\n",
       "      <td>0.021313</td>\n",
       "      <td>0.021288</td>\n",
       "      <td>Linear Regression</td>\n",
       "    </tr>\n",
       "    <tr>\n",
       "      <th>3983</th>\n",
       "      <td>2021-02-11</td>\n",
       "      <td>2.74</td>\n",
       "      <td>2.744464</td>\n",
       "      <td>2.743578</td>\n",
       "      <td>2.743337</td>\n",
       "      <td>0.004464</td>\n",
       "      <td>0.003578</td>\n",
       "      <td>0.003337</td>\n",
       "      <td>Linear Regression</td>\n",
       "    </tr>\n",
       "    <tr>\n",
       "      <th>3984</th>\n",
       "      <td>2021-02-12</td>\n",
       "      <td>2.66</td>\n",
       "      <td>2.739021</td>\n",
       "      <td>2.738308</td>\n",
       "      <td>2.739528</td>\n",
       "      <td>0.079021</td>\n",
       "      <td>0.078308</td>\n",
       "      <td>0.079528</td>\n",
       "      <td>SVR</td>\n",
       "    </tr>\n",
       "    <tr>\n",
       "      <th>3985</th>\n",
       "      <td>2021-02-17</td>\n",
       "      <td>2.63</td>\n",
       "      <td>2.665372</td>\n",
       "      <td>2.665580</td>\n",
       "      <td>2.663985</td>\n",
       "      <td>0.035372</td>\n",
       "      <td>0.035580</td>\n",
       "      <td>0.033985</td>\n",
       "      <td>Linear Regression</td>\n",
       "    </tr>\n",
       "  </tbody>\n",
       "</table>\n",
       "<p>986 rows × 9 columns</p>\n",
       "</div>"
      ],
      "text/plain": [
       "           Date  Next Day Close  Ridge Prediction  SVR Prediction  \\\n",
       "3000 2017-02-16            2.92          2.936920        2.935442   \n",
       "3001 2017-02-17            2.89          2.919972        2.919783   \n",
       "3002 2017-02-20            2.88          2.897716        2.896571   \n",
       "3003 2017-02-21            2.80          2.884671        2.883193   \n",
       "3004 2017-02-22            2.72          2.796889        2.796980   \n",
       "...         ...             ...               ...             ...   \n",
       "3981 2021-02-09            2.76          2.802496        2.801799   \n",
       "3982 2021-02-10            2.74          2.761537        2.761313   \n",
       "3983 2021-02-11            2.74          2.744464        2.743578   \n",
       "3984 2021-02-12            2.66          2.739021        2.738308   \n",
       "3985 2021-02-17            2.63          2.665372        2.665580   \n",
       "\n",
       "      Linear Regression Prediction  Ridge Error  SVR Error  \\\n",
       "3000                      2.938066     0.016920   0.015442   \n",
       "3001                      2.920081     0.029972   0.029783   \n",
       "3002                      2.895499     0.017716   0.016571   \n",
       "3003                      2.883398     0.084671   0.083193   \n",
       "3004                      2.798114     0.076889   0.076980   \n",
       "...                            ...          ...        ...   \n",
       "3981                      2.801907     0.042496   0.041799   \n",
       "3982                      2.761288     0.021537   0.021313   \n",
       "3983                      2.743337     0.004464   0.003578   \n",
       "3984                      2.739528     0.079021   0.078308   \n",
       "3985                      2.663985     0.035372   0.035580   \n",
       "\n",
       "      Linear Regression Error         Best Model  \n",
       "3000                 0.018066                SVR  \n",
       "3001                 0.030081                SVR  \n",
       "3002                 0.015499  Linear Regression  \n",
       "3003                 0.083398                SVR  \n",
       "3004                 0.078114              Ridge  \n",
       "...                       ...                ...  \n",
       "3981                 0.041907                SVR  \n",
       "3982                 0.021288  Linear Regression  \n",
       "3983                 0.003337  Linear Regression  \n",
       "3984                 0.079528                SVR  \n",
       "3985                 0.033985  Linear Regression  \n",
       "\n",
       "[986 rows x 9 columns]"
      ]
     },
     "execution_count": 163,
     "metadata": {},
     "output_type": "execute_result"
    }
   ],
   "source": [
    "next_day = pd.DataFrame({'Date': df[3000:]['Date'], 'Next Day Close': y1_test,\n",
    "              'Ridge Prediction': pred_best_r1, 'SVR Prediction': pred_best_svr1, 'Linear Regression Prediction': pred_lr1,\n",
    "            'Ridge Error': (pred_best_r1 - y1_test), 'SVR Error': (pred_best_svr1 - y1_test), 'Linear Regression Error': (pred_lr1 - y1_test)})\n",
    "\n",
    "conditions = [\n",
    "    np.logical_and(abs(next_day['Ridge Error']) < abs(next_day['SVR Error']), abs(next_day['Ridge Error']) < abs(next_day['Linear Regression Error'])),\n",
    "    np.logical_and(abs(next_day['SVR Error']) < abs(next_day['Ridge Error']), abs(next_day['SVR Error']) < abs(next_day['Linear Regression Error'])),\n",
    "    np.logical_and(abs(next_day['Linear Regression Error']) < abs(next_day['SVR Error']), abs(next_day['Linear Regression Error']) < abs(next_day['Ridge Error']))\n",
    "]\n",
    "choices = ['Ridge', 'SVR', 'Linear Regression']\n",
    "next_day['Best Model'] = np.select(conditions, choices)\n",
    "\n",
    "next_day"
   ]
  },
  {
   "cell_type": "code",
   "execution_count": 164,
   "metadata": {},
   "outputs": [
    {
     "name": "stdout",
     "output_type": "stream",
     "text": [
      "Ridge RMSE: R$ 0.09771651510957217\n",
      "SVR RMSE: R$ 0.09777324284305829\n",
      "Linear Regression RMSE: R$ 0.09775777726831528\n"
     ]
    }
   ],
   "source": [
    "print('Ridge RMSE: R$ {}'.format(np.sqrt(np.mean(np.square(next_day['Ridge Error'])))))\n",
    "print('SVR RMSE: R$ {}'.format(np.sqrt(np.mean(np.square(next_day['SVR Error'])))))\n",
    "print('Linear Regression RMSE: R$ {}'.format(np.sqrt(np.mean(np.square(next_day['Linear Regression Error'])))))"
   ]
  },
  {
   "cell_type": "code",
   "execution_count": 165,
   "metadata": {},
   "outputs": [
    {
     "data": {
      "image/png": "[encoded data removed]",
      "text/plain": [
       "<Figure size 432x288 with 1 Axes>"
      ]
     },
     "metadata": {
      "needs_background": "light"
     },
     "output_type": "display_data"
    }
   ],
   "source": [
    "sns.countplot(next_day['Best Model'])\n",
    "plt.show()"
   ]
  },
  {
   "cell_type": "code",
   "execution_count": 166,
   "metadata": {},
   "outputs": [
    {
     "data": {
      "image/png": "[encoded data removed]",
      "text/plain": [
       "<Figure size 1080x360 with 1 Axes>"
      ]
     },
     "metadata": {
      "needs_background": "light"
     },
     "output_type": "display_data"
    }
   ],
   "source": [
    "plt.figure(figsize = (15, 5))\n",
    "\n",
    "sns.lineplot(data = next_day, x = 'Date',\n",
    "             y = 'Ridge Error', label = 'Ridge')\n",
    "sns.lineplot(data = next_day, x = 'Date',\n",
    "             y = 'SVR Error', label = 'SVR')\n",
    "sns.lineplot(data = next_day, x = 'Date',\n",
    "             y = 'Linear Regression Error', label = 'Linear Regression')\n",
    "\n",
    "plt.ylabel('Model Errors')\n",
    "plt.grid()\n",
    "plt.show()"
   ]
  },
  {
   "cell_type": "markdown",
   "metadata": {},
   "source": [
    "# Next 5th day predictors"
   ]
  },
  {
   "cell_type": "code",
   "execution_count": 167,
   "metadata": {},
   "outputs": [
    {
     "name": "stdout",
     "output_type": "stream",
     "text": [
      "Best alpha: 0.27400000000000013\n",
      "Best Ridge Regression RMSE for the next 5th day prediction: R$ 0.22509159497145542\n"
     ]
    }
   ],
   "source": [
    "rmses_r5 = []\n",
    "\n",
    "for alpha in np.arange(0.1, 2, 0.001):\n",
    "    \n",
    "    r5 = Ridge(alpha = alpha)\n",
    "    r5.fit(X_train, y5_train)\n",
    "    pred_r5 = r5.predict(X_test)\n",
    "    rmse_r5 = np.sqrt(mean_squared_error(y5_test, pred_r5))\n",
    "\n",
    "    rmses_r5.append([rmse_r5, alpha])\n",
    "    \n",
    "print('Best alpha: {}'.format(min(rmses_r5)[1]))\n",
    "print('Best Ridge Regression RMSE for the next 5th day prediction: R$ {}'.format(min(rmses_r5)[0]))\n",
    "\n",
    "best_r5 = Ridge(alpha = min(rmses_r5)[1])\n",
    "best_r5.fit(X_train, y5_train)\n",
    "pred_best_r5 = best_r5.predict(X_test)"
   ]
  },
  {
   "cell_type": "code",
   "execution_count": 18,
   "metadata": {},
   "outputs": [
    {
     "name": "stdout",
     "output_type": "stream",
     "text": [
      "Best C: 17.26\n",
      "Best Linear SVR RMSE for the next 5th day prediction: R$ 0.2229677821528336\n"
     ]
    }
   ],
   "source": [
    "rmses_svr5 = []\n",
    "\n",
    "for C in np.arange(0.01, 20, 0.25):\n",
    "\n",
    "    svr5 = LinearSVR(C = C)\n",
    "    svr5.fit(X_train, y5_train)\n",
    "    pred_svr5 = svr5.predict(X_test)\n",
    "    rmse_svr5 = np.sqrt(mean_squared_error(y5_test, pred_svr5))\n",
    "\n",
    "    rmses_svr5.append([rmse_svr5, C])\n",
    "    \n",
    "print('Best C: {}'.format(min(rmses_svr5)[1]))\n",
    "print('Best Linear SVR RMSE for the next 5th day prediction: R$ {}'.format(min(rmses_svr5)[0]))\n",
    "\n",
    "best_svr5 = LinearSVR(C = min(rmses_svr5)[1])\n",
    "best_svr5.fit(X_train, y5_train)\n",
    "pred_best_svr5 = best_svr5.predict(X_test)"
   ]
  },
  {
   "cell_type": "code",
   "execution_count": 168,
   "metadata": {},
   "outputs": [
    {
     "name": "stdout",
     "output_type": "stream",
     "text": [
      "Linear Regression RMSE for the next 5th day prediction: R$ 0.22519126724376576\n"
     ]
    }
   ],
   "source": [
    "lr5 = LinearRegression()\n",
    "lr5.fit(X_train, y5_train)\n",
    "pred_lr5 = lr5.predict(X_test)\n",
    "\n",
    "print('Linear Regression RMSE for the next 5th day prediction: R$ {}'.format(np.sqrt(mean_squared_error(y5_test, pred_lr5))))"
   ]
  },
  {
   "cell_type": "code",
   "execution_count": 169,
   "metadata": {},
   "outputs": [
    {
     "data": {
      "text/html": [
       "<div>\n",
       "<style scoped>\n",
       "    .dataframe tbody tr th:only-of-type {\n",
       "        vertical-align: middle;\n",
       "    }\n",
       "\n",
       "    .dataframe tbody tr th {\n",
       "        vertical-align: top;\n",
       "    }\n",
       "\n",
       "    .dataframe thead th {\n",
       "        text-align: right;\n",
       "    }\n",
       "</style>\n",
       "<table border=\"1\" class=\"dataframe\">\n",
       "  <thead>\n",
       "    <tr style=\"text-align: right;\">\n",
       "      <th></th>\n",
       "      <th>Date</th>\n",
       "      <th>Next 5th Day Close</th>\n",
       "      <th>Ridge Prediction</th>\n",
       "      <th>SVR Prediction</th>\n",
       "      <th>Linear Regression Prediction</th>\n",
       "      <th>Ridge Error</th>\n",
       "      <th>SVR Error</th>\n",
       "      <th>Linear Regression Error</th>\n",
       "      <th>Best Model</th>\n",
       "    </tr>\n",
       "  </thead>\n",
       "  <tbody>\n",
       "    <tr>\n",
       "      <th>3000</th>\n",
       "      <td>2017-02-16</td>\n",
       "      <td>2.72</td>\n",
       "      <td>2.933207</td>\n",
       "      <td>2.891778</td>\n",
       "      <td>2.934901</td>\n",
       "      <td>0.213207</td>\n",
       "      <td>0.171778</td>\n",
       "      <td>0.214901</td>\n",
       "      <td>SVR</td>\n",
       "    </tr>\n",
       "    <tr>\n",
       "      <th>3001</th>\n",
       "      <td>2017-02-17</td>\n",
       "      <td>2.62</td>\n",
       "      <td>2.921484</td>\n",
       "      <td>2.876072</td>\n",
       "      <td>2.920984</td>\n",
       "      <td>0.301484</td>\n",
       "      <td>0.256072</td>\n",
       "      <td>0.300984</td>\n",
       "      <td>SVR</td>\n",
       "    </tr>\n",
       "    <tr>\n",
       "      <th>3002</th>\n",
       "      <td>2017-02-20</td>\n",
       "      <td>2.71</td>\n",
       "      <td>2.904712</td>\n",
       "      <td>2.850608</td>\n",
       "      <td>2.900592</td>\n",
       "      <td>0.194712</td>\n",
       "      <td>0.140608</td>\n",
       "      <td>0.190592</td>\n",
       "      <td>Linear Regression</td>\n",
       "    </tr>\n",
       "    <tr>\n",
       "      <th>3003</th>\n",
       "      <td>2017-02-21</td>\n",
       "      <td>2.60</td>\n",
       "      <td>2.887172</td>\n",
       "      <td>2.839217</td>\n",
       "      <td>2.884665</td>\n",
       "      <td>0.287172</td>\n",
       "      <td>0.239217</td>\n",
       "      <td>0.284665</td>\n",
       "      <td>SVR</td>\n",
       "    </tr>\n",
       "    <tr>\n",
       "      <th>3004</th>\n",
       "      <td>2017-02-22</td>\n",
       "      <td>2.54</td>\n",
       "      <td>2.801241</td>\n",
       "      <td>2.759248</td>\n",
       "      <td>2.802986</td>\n",
       "      <td>0.261241</td>\n",
       "      <td>0.219248</td>\n",
       "      <td>0.262986</td>\n",
       "      <td>Ridge</td>\n",
       "    </tr>\n",
       "    <tr>\n",
       "      <th>...</th>\n",
       "      <td>...</td>\n",
       "      <td>...</td>\n",
       "      <td>...</td>\n",
       "      <td>...</td>\n",
       "      <td>...</td>\n",
       "      <td>...</td>\n",
       "      <td>...</td>\n",
       "      <td>...</td>\n",
       "      <td>...</td>\n",
       "    </tr>\n",
       "    <tr>\n",
       "      <th>3981</th>\n",
       "      <td>2021-02-09</td>\n",
       "      <td>2.63</td>\n",
       "      <td>2.806312</td>\n",
       "      <td>2.762305</td>\n",
       "      <td>2.804879</td>\n",
       "      <td>0.176312</td>\n",
       "      <td>0.132305</td>\n",
       "      <td>0.174879</td>\n",
       "      <td>SVR</td>\n",
       "    </tr>\n",
       "    <tr>\n",
       "      <th>3982</th>\n",
       "      <td>2021-02-10</td>\n",
       "      <td>2.62</td>\n",
       "      <td>2.767447</td>\n",
       "      <td>2.723852</td>\n",
       "      <td>2.766600</td>\n",
       "      <td>0.147447</td>\n",
       "      <td>0.103852</td>\n",
       "      <td>0.146600</td>\n",
       "      <td>Linear Regression</td>\n",
       "    </tr>\n",
       "    <tr>\n",
       "      <th>3983</th>\n",
       "      <td>2021-02-11</td>\n",
       "      <td>2.52</td>\n",
       "      <td>2.750963</td>\n",
       "      <td>2.705841</td>\n",
       "      <td>2.748758</td>\n",
       "      <td>0.230963</td>\n",
       "      <td>0.185841</td>\n",
       "      <td>0.228758</td>\n",
       "      <td>Linear Regression</td>\n",
       "    </tr>\n",
       "    <tr>\n",
       "      <th>3984</th>\n",
       "      <td>2021-02-12</td>\n",
       "      <td>2.62</td>\n",
       "      <td>2.739211</td>\n",
       "      <td>2.703415</td>\n",
       "      <td>2.739571</td>\n",
       "      <td>0.119211</td>\n",
       "      <td>0.083415</td>\n",
       "      <td>0.119571</td>\n",
       "      <td>SVR</td>\n",
       "    </tr>\n",
       "    <tr>\n",
       "      <th>3985</th>\n",
       "      <td>2021-02-17</td>\n",
       "      <td>2.67</td>\n",
       "      <td>2.677755</td>\n",
       "      <td>2.630821</td>\n",
       "      <td>2.675011</td>\n",
       "      <td>0.007755</td>\n",
       "      <td>-0.039179</td>\n",
       "      <td>0.005011</td>\n",
       "      <td>Linear Regression</td>\n",
       "    </tr>\n",
       "  </tbody>\n",
       "</table>\n",
       "<p>986 rows × 9 columns</p>\n",
       "</div>"
      ],
      "text/plain": [
       "           Date  Next 5th Day Close  Ridge Prediction  SVR Prediction  \\\n",
       "3000 2017-02-16                2.72          2.933207        2.891778   \n",
       "3001 2017-02-17                2.62          2.921484        2.876072   \n",
       "3002 2017-02-20                2.71          2.904712        2.850608   \n",
       "3003 2017-02-21                2.60          2.887172        2.839217   \n",
       "3004 2017-02-22                2.54          2.801241        2.759248   \n",
       "...         ...                 ...               ...             ...   \n",
       "3981 2021-02-09                2.63          2.806312        2.762305   \n",
       "3982 2021-02-10                2.62          2.767447        2.723852   \n",
       "3983 2021-02-11                2.52          2.750963        2.705841   \n",
       "3984 2021-02-12                2.62          2.739211        2.703415   \n",
       "3985 2021-02-17                2.67          2.677755        2.630821   \n",
       "\n",
       "      Linear Regression Prediction  Ridge Error  SVR Error  \\\n",
       "3000                      2.934901     0.213207   0.171778   \n",
       "3001                      2.920984     0.301484   0.256072   \n",
       "3002                      2.900592     0.194712   0.140608   \n",
       "3003                      2.884665     0.287172   0.239217   \n",
       "3004                      2.802986     0.261241   0.219248   \n",
       "...                            ...          ...        ...   \n",
       "3981                      2.804879     0.176312   0.132305   \n",
       "3982                      2.766600     0.147447   0.103852   \n",
       "3983                      2.748758     0.230963   0.185841   \n",
       "3984                      2.739571     0.119211   0.083415   \n",
       "3985                      2.675011     0.007755  -0.039179   \n",
       "\n",
       "      Linear Regression Error         Best Model  \n",
       "3000                 0.214901                SVR  \n",
       "3001                 0.300984                SVR  \n",
       "3002                 0.190592  Linear Regression  \n",
       "3003                 0.284665                SVR  \n",
       "3004                 0.262986              Ridge  \n",
       "...                       ...                ...  \n",
       "3981                 0.174879                SVR  \n",
       "3982                 0.146600  Linear Regression  \n",
       "3983                 0.228758  Linear Regression  \n",
       "3984                 0.119571                SVR  \n",
       "3985                 0.005011  Linear Regression  \n",
       "\n",
       "[986 rows x 9 columns]"
      ]
     },
     "execution_count": 169,
     "metadata": {},
     "output_type": "execute_result"
    }
   ],
   "source": [
    "next_5th_day = pd.DataFrame({'Date': df[3000:]['Date'], 'Next 5th Day Close': y5_test,\n",
    "                             'Ridge Prediction': pred_best_r5, 'SVR Prediction': pred_best_svr5, 'Linear Regression Prediction': pred_lr5,\n",
    "                             'Ridge Error': (pred_best_r5 - y5_test), 'SVR Error': (pred_best_svr5 - y5_test), 'Linear Regression Error': (pred_lr5 - y5_test)})\n",
    "\n",
    "conditions = [\n",
    "    np.logical_and(abs(next_day['Ridge Error']) < abs(next_day['SVR Error']), abs(next_day['Ridge Error']) < abs(next_day['Linear Regression Error'])),\n",
    "    np.logical_and(abs(next_day['SVR Error']) < abs(next_day['Ridge Error']), abs(next_day['SVR Error']) < abs(next_day['Linear Regression Error'])),\n",
    "    np.logical_and(abs(next_day['Linear Regression Error']) < abs(next_day['SVR Error']), abs(next_day['Linear Regression Error']) < abs(next_day['Ridge Error']))\n",
    "]\n",
    "choices = ['Ridge', 'SVR', 'Linear Regression']\n",
    "next_5th_day['Best Model'] = np.select(conditions, choices)\n",
    "\n",
    "next_5th_day"
   ]
  },
  {
   "cell_type": "code",
   "execution_count": 170,
   "metadata": {},
   "outputs": [
    {
     "name": "stdout",
     "output_type": "stream",
     "text": [
      "Ridge RMSE: R$ 0.22509159497145542\n",
      "SVR RMSE: R$ 0.23084427828026682\n",
      "Linear Regression RMSE: R$ 0.22519126724376576\n"
     ]
    }
   ],
   "source": [
    "print('Ridge RMSE: R$ {}'.format(np.sqrt(np.mean(np.square(next_5th_day['Ridge Error'])))))\n",
    "print('SVR RMSE: R$ {}'.format(np.sqrt(np.mean(np.square(next_5th_day['SVR Error'])))))\n",
    "print('Linear Regression RMSE: R$ {}'.format(np.sqrt(np.mean(np.square(next_5th_day['Linear Regression Error'])))))"
   ]
  },
  {
   "cell_type": "code",
   "execution_count": 171,
   "metadata": {},
   "outputs": [
    {
     "data": {
      "image/png": "[encoded data removed]",
      "text/plain": [
       "<Figure size 432x288 with 1 Axes>"
      ]
     },
     "metadata": {
      "needs_background": "light"
     },
     "output_type": "display_data"
    }
   ],
   "source": [
    "sns.countplot(next_5th_day['Best Model'])\n",
    "plt.show()"
   ]
  },
  {
   "cell_type": "code",
   "execution_count": 172,
   "metadata": {},
   "outputs": [
    {
     "data": {
      "image/png": "[encoded data removed]",
      "text/plain": [
       "<Figure size 1080x360 with 1 Axes>"
      ]
     },
     "metadata": {
      "needs_background": "light"
     },
     "output_type": "display_data"
    }
   ],
   "source": [
    "plt.figure(figsize = (15, 5))\n",
    "\n",
    "sns.lineplot(data = next_5th_day, x = 'Date',\n",
    "             y = 'Ridge Error', label = 'Ridge')\n",
    "sns.lineplot(data = next_5th_day, x = 'Date',\n",
    "             y = 'SVR Error', label = 'SVR')\n",
    "sns.lineplot(data = next_5th_day, x = 'Date',\n",
    "             y = 'Linear Regression Error', label = 'Linear Regression')\n",
    "\n",
    "plt.ylabel('Model Errors')\n",
    "plt.grid()\n",
    "plt.show()"
   ]
  },
  {
   "cell_type": "markdown",
   "metadata": {},
   "source": [
    "## New inputs"
   ]
  },
  {
   "cell_type": "code",
   "execution_count": 182,
   "metadata": {},
   "outputs": [
    {
     "data": {
      "text/plain": [
       "Ridge()"
      ]
     },
     "execution_count": 182,
     "metadata": {},
     "output_type": "execute_result"
    }
   ],
   "source": [
    "X = df[3900:].drop(['Date', 'Next Day Close', 'Next 5th Day Close'], axis = 1)\n",
    "y1 = df[3900:]['Next Day Close']\n",
    "y5 = df[3900:]['Next 5th Day Close']\n",
    "\n",
    "scaler2 = StandardScaler()\n",
    "X = scaler2.fit_transform(X)\n",
    "\n",
    "new_lr1 = LinearRegression()\n",
    "new_lr5 = LinearRegression()\n",
    "new_lr1.fit(X, y1)\n",
    "new_lr5.fit(X, y5)\n",
    "\n",
    "new_svr1 = LinearSVR()\n",
    "new_svr5 = LinearSVR()\n",
    "new_svr1.fit(X, y1)\n",
    "new_svr5.fit(X, y5)\n",
    "\n",
    "new_r1 = Ridge()\n",
    "new_r5 = Ridge()\n",
    "new_r1.fit(X, y1)\n",
    "new_r5.fit(X, y5)"
   ]
  },
  {
   "cell_type": "code",
   "execution_count": 183,
   "metadata": {},
   "outputs": [],
   "source": [
    "def new_predictions(data, date):\n",
    "    print(f'{date} Close: {data[0]}')\n",
    "    \n",
    "    print(f'\\nTomorrow Predictions')\n",
    "    print(f' Ridge: {new_r1.predict(scaler2.transform([data]))[0]}')\n",
    "    print(f' SVR: {new_svr1.predict(scaler2.transform([data]))[0]}')\n",
    "    print(f' Linear Regression: {new_lr1.predict(scaler2.transform([data]))[0]}')\n",
    "    \n",
    "    print('\\nNext 5th Day Predictions')\n",
    "    print(f' Ridge: {new_r5.predict(scaler2.transform([data]))[0]}')\n",
    "    print(f' SVR: {new_svr5.predict(scaler2.transform([data]))[0]}')\n",
    "    print(f' Linear Regression: {new_lr5.predict(scaler2.transform([data]))[0]}')"
   ]
  },
  {
   "cell_type": "code",
   "execution_count": 184,
   "metadata": {},
   "outputs": [],
   "source": [
    "from datetime import datetime, date\n",
    "\n",
    "def predictions(data, date):\n",
    "    print(f'{date} Close: {data[0]}')\n",
    "    \n",
    "    print(f'\\nTomorrow Predictions')\n",
    "    print(f' Ridge: {r1.predict(scaler.transform([data]))[0]}')\n",
    "    print(f' SVR: {svr1.predict(scaler.transform([data]))[0]}')\n",
    "    print(f' Linear Regression: {lr1.predict(scaler.transform([data]))[0]}')\n",
    "    \n",
    "    print('\\nNext 5th Day Predictions')\n",
    "    print(f' Ridge: {r5.predict(scaler.transform([data]))[0]}')\n",
    "    print(f' SVR: {svr5.predict(scaler.transform([data]))[0]}')\n",
    "    print(f' Linear Regression: {lr5.predict(scaler.transform([data]))[0]}')"
   ]
  },
  {
   "cell_type": "code",
   "execution_count": 190,
   "metadata": {},
   "outputs": [
    {
     "name": "stdout",
     "output_type": "stream",
     "text": [
      "24/02/2021 Close: 2.67\n",
      "\n",
      "Tomorrow Predictions\n",
      " Ridge: 2.674027472266153\n",
      " SVR: 2.6717986080678866\n",
      " Linear Regression: 2.6734070346452063\n",
      "\n",
      "Next 5th Day Predictions\n",
      " Ridge: 2.6755619219923643\n",
      " SVR: 2.6378862106133254\n",
      " Linear Regression: 2.675156492091103\n",
      "\n",
      "24/02/2021 Close: 2.67\n",
      "\n",
      "Tomorrow Predictions\n",
      " Ridge: 2.7280284245026096\n",
      " SVR: 2.695930153455887\n",
      " Linear Regression: 2.7134993386492043\n",
      "\n",
      "Next 5th Day Predictions\n",
      " Ridge: 2.750819777855293\n",
      " SVR: 2.7965495780740275\n",
      " Linear Regression: 2.739400371289349\n"
     ]
    }
   ],
   "source": [
    "data_24 = [2.67, 2.65, 2.73, 2.63, 16.30]\n",
    "\n",
    "predictions(data_24, '24/02/2021')\n",
    "print()\n",
    "new_predictions(data_24, '24/02/2021')"
   ]
  },
  {
   "cell_type": "code",
   "execution_count": 191,
   "metadata": {},
   "outputs": [
    {
     "name": "stdout",
     "output_type": "stream",
     "text": [
      "18/02/2021 Close: 2.63\n",
      "\n",
      "Tomorrow Predictions\n",
      " Ridge: 2.643496442965443\n",
      " SVR: 2.6342359154890604\n",
      " Linear Regression: 2.6330905704935303\n",
      "\n",
      "Next 5th Day Predictions\n",
      " Ridge: 2.648095258812397\n",
      " SVR: 2.6013326456103076\n",
      " Linear Regression: 2.639653549056206\n",
      "\n",
      "18/02/2021 Close: 2.63\n",
      "\n",
      "Tomorrow Predictions\n",
      " Ridge: 2.6598660548704016\n",
      " SVR: 2.6468016827187557\n",
      " Linear Regression: 2.6533687502317544\n",
      "\n",
      "Next 5th Day Predictions\n",
      " Ridge: 2.7134346427884504\n",
      " SVR: 2.7287106479872\n",
      " Linear Regression: 2.705792618142058\n"
     ]
    }
   ],
   "source": [
    "data_18 = [2.63, 2.68, 2.70, 2.61, 9.70]\n",
    "predictions(data_18, '18/02/2021')\n",
    "print()\n",
    "new_predictions(data_18, '18/02/2021')"
   ]
  },
  {
   "cell_type": "code",
   "execution_count": null,
   "metadata": {},
   "outputs": [],
   "source": []
  }
 ],
 "metadata": {
  "kernelspec": {
   "display_name": "Python 3",
   "language": "python",
   "name": "python3"
  },
  "language_info": {
   "codemirror_mode": {
    "name": "ipython",
    "version": 3
   },
   "file_extension": ".py",
   "mimetype": "text/x-python",
   "name": "python",
   "nbconvert_exporter": "python",
   "pygments_lexer": "ipython3",
   "version": "3.8.2"
  }
 },
 "nbformat": 4,
 "nbformat_minor": 4
}
